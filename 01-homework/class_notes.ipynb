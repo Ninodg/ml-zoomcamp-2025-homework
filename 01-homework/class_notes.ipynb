{
 "cells": [
  {
   "cell_type": "code",
   "execution_count": 1,
   "id": "aae24cfa",
   "metadata": {},
   "outputs": [],
   "source": [
    "import numpy as np"
   ]
  },
  {
   "cell_type": "code",
   "execution_count": 2,
   "id": "e969e048",
   "metadata": {},
   "outputs": [
    {
     "data": {
      "text/plain": [
       "array([0.  , 0.25, 0.5 , 0.75, 1.  ])"
      ]
     },
     "execution_count": 2,
     "metadata": {},
     "output_type": "execute_result"
    }
   ],
   "source": [
    "# np.zeros(10)\n",
    "# np.ones(10)\n",
    "# np.full(5, 100)\n",
    "# np.array([1, 2, 3, 4, 5])\n",
    "# np.arange(1, 20)\n",
    "np.linspace(0, 1, 5)"
   ]
  },
  {
   "cell_type": "code",
   "execution_count": 3,
   "id": "cfd5d657",
   "metadata": {},
   "outputs": [
    {
     "data": {
      "text/plain": [
       "array([[0., 0.],\n",
       "       [0., 0.],\n",
       "       [0., 0.],\n",
       "       [0., 0.],\n",
       "       [0., 0.]])"
      ]
     },
     "execution_count": 3,
     "metadata": {},
     "output_type": "execute_result"
    }
   ],
   "source": [
    "np.zeros((5,2))"
   ]
  },
  {
   "cell_type": "code",
   "execution_count": 4,
   "id": "b61d0e83",
   "metadata": {},
   "outputs": [],
   "source": [
    "a = np.array([\n",
    "    [1,2,3,4,5],\n",
    "    [6,7,8,9,10],\n",
    "    [11,12,13,14,15],\n",
    "    [16,17,18,19,20],\n",
    "    [21,22,23,24,25]\n",
    "    ])"
   ]
  },
  {
   "cell_type": "markdown",
   "id": "ab91ad50",
   "metadata": {},
   "source": []
  },
  {
   "cell_type": "code",
   "execution_count": 5,
   "id": "46c3cdae",
   "metadata": {},
   "outputs": [
    {
     "data": {
      "text/plain": [
       "array([[ 1,  2,  3,  4, 10],\n",
       "       [ 6,  7,  8,  9, 20],\n",
       "       [11, 12, 13, 14, 30],\n",
       "       [16, 17, 18, 19, 40],\n",
       "       [21, 22, 23, 24, 50]])"
      ]
     },
     "execution_count": 5,
     "metadata": {},
     "output_type": "execute_result"
    }
   ],
   "source": [
    "# a[4]\n",
    "# a[:, 2]\n",
    "# a[1,3]\n",
    "\n",
    "a[:, 4] = [10, 20, 30, 40, 50]\n",
    "a[:]"
   ]
  },
  {
   "cell_type": "code",
   "execution_count": 6,
   "id": "1f94e93a",
   "metadata": {},
   "outputs": [],
   "source": [
    "a = np.array([1,2,3,4])\n",
    "\n",
    "b = np.array([2,0,5,1])"
   ]
  },
  {
   "cell_type": "code",
   "execution_count": 7,
   "id": "ef7c9ba7",
   "metadata": {},
   "outputs": [
    {
     "data": {
      "text/plain": [
       "array([2, 4])"
      ]
     },
     "execution_count": 7,
     "metadata": {},
     "output_type": "execute_result"
    }
   ],
   "source": [
    "a[a > b]"
   ]
  },
  {
   "cell_type": "code",
   "execution_count": 8,
   "id": "1197174a",
   "metadata": {},
   "outputs": [
    {
     "data": {
      "text/plain": [
       "array([False,  True, False,  True])"
      ]
     },
     "execution_count": 8,
     "metadata": {},
     "output_type": "execute_result"
    }
   ],
   "source": [
    "a > b"
   ]
  },
  {
   "cell_type": "markdown",
   "id": "9317ddbd",
   "metadata": {},
   "source": [
    "## Summarizing Operations"
   ]
  },
  {
   "cell_type": "code",
   "execution_count": 9,
   "id": "ac0307c5",
   "metadata": {},
   "outputs": [
    {
     "data": {
      "text/plain": [
       "np.int64(1)"
      ]
     },
     "execution_count": 9,
     "metadata": {},
     "output_type": "execute_result"
    }
   ],
   "source": [
    "# Returns number\n",
    "\n",
    "a.min()"
   ]
  },
  {
   "cell_type": "code",
   "execution_count": 10,
   "id": "e76f2687",
   "metadata": {},
   "outputs": [
    {
     "data": {
      "text/plain": [
       "np.int64(4)"
      ]
     },
     "execution_count": 10,
     "metadata": {},
     "output_type": "execute_result"
    }
   ],
   "source": [
    "a.max()"
   ]
  },
  {
   "cell_type": "code",
   "execution_count": 11,
   "id": "c7d98e2e",
   "metadata": {},
   "outputs": [],
   "source": [
    "np.random.seed(42)"
   ]
  },
  {
   "cell_type": "markdown",
   "id": "d7b182a8",
   "metadata": {},
   "source": [
    "## Linear Algebra Operations"
   ]
  },
  {
   "cell_type": "code",
   "execution_count": 12,
   "id": "efde4f96",
   "metadata": {},
   "outputs": [],
   "source": [
    "v1 = np.array([1,2,3])\n",
    "v2 = np.array([2,0,5])\n",
    "\n",
    "M1 = np.array([[1,2,3],[4,5,6],[7,8,9]])\n",
    "M2 = np.array([[9,8,7],[6,5,4],[3,2,1]])"
   ]
  },
  {
   "cell_type": "markdown",
   "id": "552b1a0f",
   "metadata": {},
   "source": [
    "### Vector - Vector multiplication"
   ]
  },
  {
   "cell_type": "code",
   "execution_count": 13,
   "id": "6a87c619",
   "metadata": {},
   "outputs": [],
   "source": [
    "def vector_vector_multiplication(u, v):\n",
    "    assert u.shape[0] == v.shape[0]\n",
    "\n",
    "    n = u.shape[0] # Rows\n",
    "    ans = 0.0\n",
    "\n",
    "    for i in range(n):\n",
    "        ans += u[i] * v[i]\n",
    "    \n",
    "    return ans\n"
   ]
  },
  {
   "cell_type": "markdown",
   "id": "bf35b2e8",
   "metadata": {},
   "source": [
    "### Matrix - Vector multiplication"
   ]
  },
  {
   "cell_type": "code",
   "execution_count": 14,
   "id": "7a028b5b",
   "metadata": {},
   "outputs": [],
   "source": [
    "def matrix_vector_multiplication(U, v):\n",
    "\n",
    "    assert U.shape[1] == v.shape[0]\n",
    "\n",
    "    n = U.shape[0] # rows\n",
    "\n",
    "    ans = np.zeros(U.shape[0])\n",
    "\n",
    "    for i in range(n):\n",
    "        ans[i] += vector_vector_multiplication(U[i,:], v)\n",
    "    \n",
    "    return ans\n"
   ]
  },
  {
   "cell_type": "code",
   "execution_count": 15,
   "id": "85a2fe3a",
   "metadata": {},
   "outputs": [
    {
     "data": {
      "text/plain": [
       "array([14., 32., 50.])"
      ]
     },
     "execution_count": 15,
     "metadata": {},
     "output_type": "execute_result"
    }
   ],
   "source": [
    "matrix_vector_multiplication(M1, v1)"
   ]
  },
  {
   "cell_type": "markdown",
   "id": "89c59a82",
   "metadata": {},
   "source": [
    "### Matrix - Matrix multiplication"
   ]
  },
  {
   "cell_type": "code",
   "execution_count": 16,
   "id": "de2ff19d",
   "metadata": {},
   "outputs": [],
   "source": [
    "def matrix_matrix_multiplication(U, V):\n",
    "\n",
    "    assert U.shape[1] == V.shape[0]\n",
    "\n",
    "    n = U.shape[0] # rows\n",
    "    m = V.shape[1] # cols\n",
    "\n",
    "    ans = np.zeros([n, m])\n",
    "    \n",
    "    # for i in range(n):\n",
    "    #     for j in range(m):\n",
    "    #         ans[i, j] += vector_vector_multiplication(U[i,:], V[:,j])\n",
    "\n",
    "    # Most optimal way\n",
    "    for j in range(m):\n",
    "        ans[:, j] = matrix_vector_multiplication(U, V[:, j])\n",
    "    \n",
    "    return ans"
   ]
  },
  {
   "cell_type": "code",
   "execution_count": 17,
   "id": "5cf280c2",
   "metadata": {},
   "outputs": [
    {
     "data": {
      "text/plain": [
       "array([[0., 9.],\n",
       "       [3., 2.]])"
      ]
     },
     "execution_count": 17,
     "metadata": {},
     "output_type": "execute_result"
    }
   ],
   "source": [
    "# matrix_matrix_multiplication(M1, M2)\n",
    "\n",
    "# 2x3\n",
    "M3 = np.array([\n",
    "    [0, 0, 3],\n",
    "    [1, 2, 0]\n",
    "    ])\n",
    "\n",
    "# 3x2\n",
    "M4 = np.array([\n",
    "    [1, 0],\n",
    "    [1, 1],\n",
    "    [0, 3]\n",
    "])\n",
    "\n",
    "# should bring\n",
    "# 0 9\n",
    "# 3 2\n",
    "\n",
    "matrix_matrix_multiplication(M3, M4)\n",
    "\n"
   ]
  },
  {
   "cell_type": "code",
   "execution_count": 18,
   "id": "2a21cf3d",
   "metadata": {},
   "outputs": [
    {
     "ename": "NameError",
     "evalue": "name 'ans' is not defined",
     "output_type": "error",
     "traceback": [
      "\u001b[31m---------------------------------------------------------------------------\u001b[39m",
      "\u001b[31mNameError\u001b[39m                                 Traceback (most recent call last)",
      "\u001b[36mCell\u001b[39m\u001b[36m \u001b[39m\u001b[32mIn[18]\u001b[39m\u001b[32m, line 1\u001b[39m\n\u001b[32m----> \u001b[39m\u001b[32m1\u001b[39m \u001b[43mans\u001b[49m\n",
      "\u001b[31mNameError\u001b[39m: name 'ans' is not defined"
     ]
    }
   ],
   "source": [
    "ans\n"
   ]
  },
  {
   "cell_type": "code",
   "execution_count": null,
   "id": "9926a3cf",
   "metadata": {},
   "outputs": [],
   "source": [
    "I = np.eye(3)\n",
    "I"
   ]
  },
  {
   "cell_type": "code",
   "execution_count": null,
   "id": "6e036c0b",
   "metadata": {},
   "outputs": [],
   "source": []
  }
 ],
 "metadata": {
  "kernelspec": {
   "display_name": "Python 3 (ipykernel)",
   "language": "python",
   "name": "python3"
  },
  "language_info": {
   "codemirror_mode": {
    "name": "ipython",
    "version": 3
   },
   "file_extension": ".py",
   "mimetype": "text/x-python",
   "name": "python",
   "nbconvert_exporter": "python",
   "pygments_lexer": "ipython3",
   "version": "3.12.1"
  }
 },
 "nbformat": 4,
 "nbformat_minor": 5
}
