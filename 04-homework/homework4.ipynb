{
 "cells": [
  {
   "cell_type": "code",
   "execution_count": 1,
   "id": "fe0b4b17",
   "metadata": {},
   "outputs": [],
   "source": [
    "# !wget https://raw.githubusercontent.com/alexeygrigorev/datasets/master/course_lead_scoring.csv"
   ]
  },
  {
   "cell_type": "code",
   "execution_count": 37,
   "id": "1ad9892b",
   "metadata": {},
   "outputs": [
    {
     "name": "stdout",
     "output_type": "stream",
     "text": [
      "Collecting tqdm\n",
      "  Downloading tqdm-4.67.1-py3-none-any.whl.metadata (57 kB)\n",
      "Downloading tqdm-4.67.1-py3-none-any.whl (78 kB)\n",
      "Installing collected packages: tqdm\n",
      "Successfully installed tqdm-4.67.1\n",
      "\n",
      "\u001b[1m[\u001b[0m\u001b[34;49mnotice\u001b[0m\u001b[1;39;49m]\u001b[0m\u001b[39;49m A new release of pip is available: \u001b[0m\u001b[31;49m25.1.1\u001b[0m\u001b[39;49m -> \u001b[0m\u001b[32;49m25.2\u001b[0m\n",
      "\u001b[1m[\u001b[0m\u001b[34;49mnotice\u001b[0m\u001b[1;39;49m]\u001b[0m\u001b[39;49m To update, run: \u001b[0m\u001b[32;49mpython3 -m pip install --upgrade pip\u001b[0m\n"
     ]
    }
   ],
   "source": [
    "!pip install tqdm"
   ]
  },
  {
   "cell_type": "code",
   "execution_count": 38,
   "id": "3cc5dcf3",
   "metadata": {},
   "outputs": [],
   "source": [
    "import pandas as pd\n",
    "import numpy as np\n",
    "from sklearn.model_selection import train_test_split, KFold\n",
    "from sklearn.metrics import roc_auc_score\n",
    "from sklearn.feature_extraction import DictVectorizer\n",
    "from sklearn.linear_model import LogisticRegression\n",
    "\n",
    "import matplotlib.pyplot as plt\n",
    "from tqdm.auto import tqdm\n"
   ]
  },
  {
   "cell_type": "code",
   "execution_count": 3,
   "id": "f3531684",
   "metadata": {},
   "outputs": [
    {
     "data": {
      "text/html": [
       "<div>\n",
       "<style scoped>\n",
       "    .dataframe tbody tr th:only-of-type {\n",
       "        vertical-align: middle;\n",
       "    }\n",
       "\n",
       "    .dataframe tbody tr th {\n",
       "        vertical-align: top;\n",
       "    }\n",
       "\n",
       "    .dataframe thead th {\n",
       "        text-align: right;\n",
       "    }\n",
       "</style>\n",
       "<table border=\"1\" class=\"dataframe\">\n",
       "  <thead>\n",
       "    <tr style=\"text-align: right;\">\n",
       "      <th></th>\n",
       "      <th>lead_source</th>\n",
       "      <th>industry</th>\n",
       "      <th>number_of_courses_viewed</th>\n",
       "      <th>annual_income</th>\n",
       "      <th>employment_status</th>\n",
       "      <th>location</th>\n",
       "      <th>interaction_count</th>\n",
       "      <th>lead_score</th>\n",
       "      <th>converted</th>\n",
       "    </tr>\n",
       "  </thead>\n",
       "  <tbody>\n",
       "    <tr>\n",
       "      <th>0</th>\n",
       "      <td>paid_ads</td>\n",
       "      <td>NaN</td>\n",
       "      <td>1</td>\n",
       "      <td>79450.0</td>\n",
       "      <td>unemployed</td>\n",
       "      <td>south_america</td>\n",
       "      <td>4</td>\n",
       "      <td>0.94</td>\n",
       "      <td>1</td>\n",
       "    </tr>\n",
       "    <tr>\n",
       "      <th>1</th>\n",
       "      <td>social_media</td>\n",
       "      <td>retail</td>\n",
       "      <td>1</td>\n",
       "      <td>46992.0</td>\n",
       "      <td>employed</td>\n",
       "      <td>south_america</td>\n",
       "      <td>1</td>\n",
       "      <td>0.80</td>\n",
       "      <td>0</td>\n",
       "    </tr>\n",
       "    <tr>\n",
       "      <th>2</th>\n",
       "      <td>events</td>\n",
       "      <td>healthcare</td>\n",
       "      <td>5</td>\n",
       "      <td>78796.0</td>\n",
       "      <td>unemployed</td>\n",
       "      <td>australia</td>\n",
       "      <td>3</td>\n",
       "      <td>0.69</td>\n",
       "      <td>1</td>\n",
       "    </tr>\n",
       "    <tr>\n",
       "      <th>3</th>\n",
       "      <td>paid_ads</td>\n",
       "      <td>retail</td>\n",
       "      <td>2</td>\n",
       "      <td>83843.0</td>\n",
       "      <td>NaN</td>\n",
       "      <td>australia</td>\n",
       "      <td>1</td>\n",
       "      <td>0.87</td>\n",
       "      <td>0</td>\n",
       "    </tr>\n",
       "    <tr>\n",
       "      <th>4</th>\n",
       "      <td>referral</td>\n",
       "      <td>education</td>\n",
       "      <td>3</td>\n",
       "      <td>85012.0</td>\n",
       "      <td>self_employed</td>\n",
       "      <td>europe</td>\n",
       "      <td>3</td>\n",
       "      <td>0.62</td>\n",
       "      <td>1</td>\n",
       "    </tr>\n",
       "  </tbody>\n",
       "</table>\n",
       "</div>"
      ],
      "text/plain": [
       "    lead_source    industry  number_of_courses_viewed  annual_income  \\\n",
       "0      paid_ads         NaN                         1        79450.0   \n",
       "1  social_media      retail                         1        46992.0   \n",
       "2        events  healthcare                         5        78796.0   \n",
       "3      paid_ads      retail                         2        83843.0   \n",
       "4      referral   education                         3        85012.0   \n",
       "\n",
       "  employment_status       location  interaction_count  lead_score  converted  \n",
       "0        unemployed  south_america                  4        0.94          1  \n",
       "1          employed  south_america                  1        0.80          0  \n",
       "2        unemployed      australia                  3        0.69          1  \n",
       "3               NaN      australia                  1        0.87          0  \n",
       "4     self_employed         europe                  3        0.62          1  "
      ]
     },
     "execution_count": 3,
     "metadata": {},
     "output_type": "execute_result"
    }
   ],
   "source": [
    "df = pd.read_csv(\"course_lead_scoring.csv\")\n",
    "df.head()"
   ]
  },
  {
   "cell_type": "code",
   "execution_count": 4,
   "id": "93d75b26",
   "metadata": {},
   "outputs": [],
   "source": [
    "categorical = ['lead_source', 'industry', 'employment_status', 'location']\n",
    "numerical = ['number_of_courses_viewed', 'annual_income', 'interaction_count', 'lead_score']"
   ]
  },
  {
   "cell_type": "code",
   "execution_count": 5,
   "id": "d6e6426b",
   "metadata": {},
   "outputs": [
    {
     "data": {
      "text/plain": [
       "lead_source                 128\n",
       "industry                    134\n",
       "number_of_courses_viewed      0\n",
       "annual_income               181\n",
       "employment_status           100\n",
       "location                     63\n",
       "interaction_count             0\n",
       "lead_score                    0\n",
       "converted                     0\n",
       "dtype: int64"
      ]
     },
     "execution_count": 5,
     "metadata": {},
     "output_type": "execute_result"
    }
   ],
   "source": [
    "df.isnull().sum()"
   ]
  },
  {
   "cell_type": "code",
   "execution_count": 6,
   "id": "a7ff2883",
   "metadata": {},
   "outputs": [
    {
     "data": {
      "text/plain": [
       "lead_source                    5\n",
       "industry                       7\n",
       "number_of_courses_viewed      10\n",
       "annual_income               1267\n",
       "employment_status              4\n",
       "location                       7\n",
       "interaction_count             12\n",
       "lead_score                   101\n",
       "converted                      2\n",
       "dtype: int64"
      ]
     },
     "execution_count": 6,
     "metadata": {},
     "output_type": "execute_result"
    }
   ],
   "source": [
    "df.nunique()"
   ]
  },
  {
   "cell_type": "code",
   "execution_count": 7,
   "id": "140e2c85",
   "metadata": {},
   "outputs": [
    {
     "data": {
      "text/plain": [
       "lead_source                  object\n",
       "industry                     object\n",
       "number_of_courses_viewed      int64\n",
       "annual_income               float64\n",
       "employment_status            object\n",
       "location                     object\n",
       "interaction_count             int64\n",
       "lead_score                  float64\n",
       "converted                     int64\n",
       "dtype: object"
      ]
     },
     "execution_count": 7,
     "metadata": {},
     "output_type": "execute_result"
    }
   ],
   "source": [
    "df.dtypes"
   ]
  },
  {
   "cell_type": "code",
   "execution_count": 8,
   "id": "28caf831",
   "metadata": {},
   "outputs": [],
   "source": [
    "for c in categorical:\n",
    "    df[c] = df[c].fillna('NA')\n",
    "for c in numerical:\n",
    "    df[c] = df[c].fillna(0.0)"
   ]
  },
  {
   "cell_type": "code",
   "execution_count": 9,
   "id": "86c537f9",
   "metadata": {},
   "outputs": [
    {
     "data": {
      "text/plain": [
       "lead_source                 0\n",
       "industry                    0\n",
       "number_of_courses_viewed    0\n",
       "annual_income               0\n",
       "employment_status           0\n",
       "location                    0\n",
       "interaction_count           0\n",
       "lead_score                  0\n",
       "converted                   0\n",
       "dtype: int64"
      ]
     },
     "execution_count": 9,
     "metadata": {},
     "output_type": "execute_result"
    }
   ],
   "source": [
    "df.isnull().sum()"
   ]
  },
  {
   "cell_type": "code",
   "execution_count": 10,
   "id": "23203c14",
   "metadata": {},
   "outputs": [
    {
     "data": {
      "text/html": [
       "<div>\n",
       "<style scoped>\n",
       "    .dataframe tbody tr th:only-of-type {\n",
       "        vertical-align: middle;\n",
       "    }\n",
       "\n",
       "    .dataframe tbody tr th {\n",
       "        vertical-align: top;\n",
       "    }\n",
       "\n",
       "    .dataframe thead th {\n",
       "        text-align: right;\n",
       "    }\n",
       "</style>\n",
       "<table border=\"1\" class=\"dataframe\">\n",
       "  <thead>\n",
       "    <tr style=\"text-align: right;\">\n",
       "      <th></th>\n",
       "      <th>lead_source</th>\n",
       "      <th>industry</th>\n",
       "      <th>number_of_courses_viewed</th>\n",
       "      <th>annual_income</th>\n",
       "      <th>employment_status</th>\n",
       "      <th>location</th>\n",
       "      <th>interaction_count</th>\n",
       "      <th>lead_score</th>\n",
       "      <th>converted</th>\n",
       "    </tr>\n",
       "  </thead>\n",
       "  <tbody>\n",
       "    <tr>\n",
       "      <th>0</th>\n",
       "      <td>paid_ads</td>\n",
       "      <td>NA</td>\n",
       "      <td>1</td>\n",
       "      <td>79450.0</td>\n",
       "      <td>unemployed</td>\n",
       "      <td>south_america</td>\n",
       "      <td>4</td>\n",
       "      <td>0.94</td>\n",
       "      <td>1</td>\n",
       "    </tr>\n",
       "    <tr>\n",
       "      <th>1</th>\n",
       "      <td>social_media</td>\n",
       "      <td>retail</td>\n",
       "      <td>1</td>\n",
       "      <td>46992.0</td>\n",
       "      <td>employed</td>\n",
       "      <td>south_america</td>\n",
       "      <td>1</td>\n",
       "      <td>0.80</td>\n",
       "      <td>0</td>\n",
       "    </tr>\n",
       "    <tr>\n",
       "      <th>2</th>\n",
       "      <td>events</td>\n",
       "      <td>healthcare</td>\n",
       "      <td>5</td>\n",
       "      <td>78796.0</td>\n",
       "      <td>unemployed</td>\n",
       "      <td>australia</td>\n",
       "      <td>3</td>\n",
       "      <td>0.69</td>\n",
       "      <td>1</td>\n",
       "    </tr>\n",
       "    <tr>\n",
       "      <th>3</th>\n",
       "      <td>paid_ads</td>\n",
       "      <td>retail</td>\n",
       "      <td>2</td>\n",
       "      <td>83843.0</td>\n",
       "      <td>NA</td>\n",
       "      <td>australia</td>\n",
       "      <td>1</td>\n",
       "      <td>0.87</td>\n",
       "      <td>0</td>\n",
       "    </tr>\n",
       "    <tr>\n",
       "      <th>4</th>\n",
       "      <td>referral</td>\n",
       "      <td>education</td>\n",
       "      <td>3</td>\n",
       "      <td>85012.0</td>\n",
       "      <td>self_employed</td>\n",
       "      <td>europe</td>\n",
       "      <td>3</td>\n",
       "      <td>0.62</td>\n",
       "      <td>1</td>\n",
       "    </tr>\n",
       "  </tbody>\n",
       "</table>\n",
       "</div>"
      ],
      "text/plain": [
       "    lead_source    industry  number_of_courses_viewed  annual_income  \\\n",
       "0      paid_ads          NA                         1        79450.0   \n",
       "1  social_media      retail                         1        46992.0   \n",
       "2        events  healthcare                         5        78796.0   \n",
       "3      paid_ads      retail                         2        83843.0   \n",
       "4      referral   education                         3        85012.0   \n",
       "\n",
       "  employment_status       location  interaction_count  lead_score  converted  \n",
       "0        unemployed  south_america                  4        0.94          1  \n",
       "1          employed  south_america                  1        0.80          0  \n",
       "2        unemployed      australia                  3        0.69          1  \n",
       "3                NA      australia                  1        0.87          0  \n",
       "4     self_employed         europe                  3        0.62          1  "
      ]
     },
     "execution_count": 10,
     "metadata": {},
     "output_type": "execute_result"
    }
   ],
   "source": [
    "df.head()"
   ]
  },
  {
   "cell_type": "code",
   "execution_count": 11,
   "id": "ddcfbc9f",
   "metadata": {},
   "outputs": [],
   "source": [
    "df_full_train, df_test = train_test_split(df, test_size=0.2, random_state=1)\n",
    "df_train, df_val = train_test_split(df_full_train, test_size=0.25, random_state=1)\n",
    "\n",
    "df_train = df_train.reset_index(drop=True)\n",
    "df_val = df_val.reset_index(drop=True)\n",
    "df_test = df_test.reset_index(drop=True)\n",
    "\n",
    "y_train = df_train['converted'].values\n",
    "y_val = df_val['converted'].values\n",
    "y_test = df_test['converted'].values\n",
    "\n",
    "del df_train['converted']\n",
    "del df_val['converted']\n",
    "del df_test['converted']"
   ]
  },
  {
   "cell_type": "markdown",
   "id": "9a932532",
   "metadata": {},
   "source": [
    "## Question 1"
   ]
  },
  {
   "cell_type": "code",
   "execution_count": 12,
   "id": "06f11701",
   "metadata": {},
   "outputs": [
    {
     "name": "stdout",
     "output_type": "stream",
     "text": [
      "Column number_of_courses_viewed - AUC 0.764\n",
      "Column annual_income - AUC 0.552\n",
      "Column interaction_count - AUC 0.738\n",
      "Column lead_score - AUC 0.614\n"
     ]
    }
   ],
   "source": [
    "for c in numerical:\n",
    "\n",
    "    ans = roc_auc_score(y_true=y_train, y_score=df_train[c])\n",
    "    if ans < 0.5:\n",
    "        ans = roc_auc_score(y_true=y_train, y_score=-df_train[c])\n",
    "    \n",
    "    ans = round(ans, 3)\n",
    "\n",
    "    print(f\"Column {c} - AUC {ans}\")\n",
    "\n",
    "    "
   ]
  },
  {
   "cell_type": "code",
   "execution_count": 13,
   "id": "1bf0f24e",
   "metadata": {},
   "outputs": [],
   "source": [
    "# Answer is number_of_courses_viewed, with AUC = 0.764"
   ]
  },
  {
   "cell_type": "markdown",
   "id": "2c370ac9",
   "metadata": {},
   "source": [
    "## Question 2"
   ]
  },
  {
   "cell_type": "code",
   "execution_count": 14,
   "id": "4cb1f695",
   "metadata": {},
   "outputs": [],
   "source": [
    "# X training and validation using One-Hot encoding\n",
    "train_dict = df_train.to_dict(orient='records')\n",
    "val_dict = df_val.to_dict(orient='records')\n",
    "dv = DictVectorizer(sparse=False)\n",
    "X_train = dv.fit_transform(train_dict)\n",
    "X_val = dv.transform(val_dict)\n",
    "\n",
    "# Model\n",
    "model = LogisticRegression(solver='liblinear', C=1.0, max_iter=1000)\n",
    "model.fit(X_train, y_train)\n",
    "\n",
    "# Predicting\n",
    "y_pred = model.predict_proba(X_val)[:,1]"
   ]
  },
  {
   "cell_type": "code",
   "execution_count": 15,
   "id": "ee7bdb9a",
   "metadata": {},
   "outputs": [
    {
     "name": "stdout",
     "output_type": "stream",
     "text": [
      "0.817\n"
     ]
    }
   ],
   "source": [
    "# Calculating the AUC\n",
    "auc_result = roc_auc_score(y_true=y_val, y_score=y_pred)\n",
    "print(round(auc_result, 3))"
   ]
  },
  {
   "cell_type": "code",
   "execution_count": 16,
   "id": "214c774a",
   "metadata": {},
   "outputs": [],
   "source": [
    "# Answer is 0.817"
   ]
  },
  {
   "cell_type": "markdown",
   "id": "56462c83",
   "metadata": {},
   "source": [
    "## Question 3"
   ]
  },
  {
   "cell_type": "code",
   "execution_count": 24,
   "id": "4fa6a5fe",
   "metadata": {},
   "outputs": [
    {
     "name": "stdout",
     "output_type": "stream",
     "text": [
      "Precision = 0.5836177474402731 | Recall = 1.0\n",
      "Precision = 0.5836177474402731 | Recall = 1.0\n",
      "Precision = 0.5836177474402731 | Recall = 1.0\n",
      "Precision = 0.5836177474402731 | Recall = 1.0\n",
      "Precision = 0.5836177474402731 | Recall = 1.0\n",
      "Precision = 0.5836177474402731 | Recall = 1.0\n",
      "Precision = 0.5836177474402731 | Recall = 1.0\n",
      "Precision = 0.5836177474402731 | Recall = 1.0\n",
      "Precision = 0.5836177474402731 | Recall = 1.0\n",
      "Precision = 0.5836177474402731 | Recall = 1.0\n",
      "Precision = 0.5836177474402731 | Recall = 1.0\n",
      "Precision = 0.5836177474402731 | Recall = 1.0\n",
      "Precision = 0.5836177474402731 | Recall = 1.0\n",
      "Precision = 0.5836177474402731 | Recall = 1.0\n",
      "Precision = 0.5836177474402731 | Recall = 1.0\n",
      "Precision = 0.5836177474402731 | Recall = 1.0\n",
      "Precision = 0.5836177474402731 | Recall = 1.0\n",
      "Precision = 0.5836177474402731 | Recall = 1.0\n",
      "Precision = 0.5836177474402731 | Recall = 1.0\n",
      "Precision = 0.5836177474402731 | Recall = 1.0\n",
      "Precision = 0.5836177474402731 | Recall = 1.0\n",
      "Precision = 0.5836177474402731 | Recall = 1.0\n",
      "Precision = 0.5836177474402731 | Recall = 1.0\n",
      "Precision = 0.5836177474402731 | Recall = 1.0\n",
      "Precision = 0.5836177474402731 | Recall = 1.0\n",
      "Precision = 0.5836177474402731 | Recall = 1.0\n",
      "Precision = 0.5836177474402731 | Recall = 1.0\n",
      "Precision = 0.5856164383561644 | Recall = 1.0\n",
      "Precision = 0.5876288659793815 | Recall = 1.0\n",
      "Precision = 0.5896551724137931 | Recall = 1.0\n",
      "Precision = 0.5896551724137931 | Recall = 1.0\n",
      "Precision = 0.5896551724137931 | Recall = 1.0\n",
      "Precision = 0.5916955017301038 | Recall = 1.0\n",
      "Precision = 0.5916955017301038 | Recall = 1.0\n",
      "Precision = 0.59375 | Recall = 1.0\n",
      "Precision = 0.59375 | Recall = 1.0\n",
      "Precision = 0.5979020979020979 | Recall = 1.0\n",
      "Precision = 0.5979020979020979 | Recall = 1.0\n",
      "Precision = 0.602112676056338 | Recall = 1.0\n",
      "Precision = 0.6107142857142858 | Recall = 1.0\n",
      "Precision = 0.6195652173913043 | Recall = 1.0\n",
      "Precision = 0.6204379562043796 | Recall = 0.9941520467836257\n",
      "Precision = 0.6319702602230484 | Recall = 0.9941520467836257\n",
      "Precision = 0.6343283582089553 | Recall = 0.9941520467836257\n",
      "Precision = 0.6439393939393939 | Recall = 0.9941520467836257\n",
      "Precision = 0.6475095785440613 | Recall = 0.9883040935672515\n",
      "Precision = 0.6525096525096525 | Recall = 0.9883040935672515\n",
      "Precision = 0.65625 | Recall = 0.9824561403508771\n",
      "Precision = 0.6666666666666666 | Recall = 0.9707602339181286\n",
      "Precision = 0.6653225806451613 | Recall = 0.9649122807017544\n",
      "Precision = 0.6693877551020408 | Recall = 0.9590643274853801\n",
      "Precision = 0.6763485477178424 | Recall = 0.9532163742690059\n",
      "Precision = 0.688034188034188 | Recall = 0.9415204678362573\n",
      "Precision = 0.7 | Recall = 0.9415204678362573\n",
      "Precision = 0.7079646017699115 | Recall = 0.935672514619883\n",
      "Precision = 0.7194570135746606 | Recall = 0.9298245614035088\n",
      "Precision = 0.7235023041474654 | Recall = 0.9181286549707602\n",
      "Precision = 0.7323943661971831 | Recall = 0.9122807017543859\n",
      "Precision = 0.7333333333333333 | Recall = 0.9005847953216374\n",
      "Precision = 0.7414634146341463 | Recall = 0.8888888888888888\n",
      "Precision = 0.7389162561576355 | Recall = 0.8771929824561403\n",
      "Precision = 0.7474747474747475 | Recall = 0.8654970760233918\n",
      "Precision = 0.7606382978723404 | Recall = 0.8362573099415205\n",
      "Precision = 0.7637362637362637 | Recall = 0.8128654970760234\n",
      "Precision = 0.7790697674418605 | Recall = 0.783625730994152\n",
      "Precision = 0.7784431137724551 | Recall = 0.7602339181286549\n",
      "Precision = 0.779874213836478 | Recall = 0.7251461988304093\n",
      "Precision = 0.7973856209150327 | Recall = 0.7134502923976608\n",
      "Precision = 0.8055555555555556 | Recall = 0.6783625730994152\n",
      "Precision = 0.8043478260869565 | Recall = 0.6491228070175439\n",
      "Precision = 0.8091603053435115 | Recall = 0.6198830409356725\n",
      "Precision = 0.8188976377952756 | Recall = 0.6081871345029239\n",
      "Precision = 0.8220338983050848 | Recall = 0.5672514619883041\n",
      "Precision = 0.8256880733944955 | Recall = 0.5263157894736842\n",
      "Precision = 0.8461538461538461 | Recall = 0.5146198830409356\n",
      "Precision = 0.85 | Recall = 0.49707602339181284\n",
      "Precision = 0.8723404255319149 | Recall = 0.47953216374269003\n",
      "Precision = 0.8764044943820225 | Recall = 0.45614035087719296\n",
      "Precision = 0.9 | Recall = 0.42105263157894735\n",
      "Precision = 0.9178082191780822 | Recall = 0.391812865497076\n",
      "Precision = 0.9142857142857143 | Recall = 0.3742690058479532\n",
      "Precision = 0.9130434782608695 | Recall = 0.3684210526315789\n",
      "Precision = 0.9365079365079365 | Recall = 0.34502923976608185\n",
      "Precision = 0.9298245614035088 | Recall = 0.30994152046783624\n",
      "Precision = 0.9285714285714286 | Recall = 0.30409356725146197\n",
      "Precision = 0.9583333333333334 | Recall = 0.26900584795321636\n",
      "Precision = 0.9534883720930233 | Recall = 0.23976608187134502\n",
      "Precision = 0.9444444444444444 | Recall = 0.19883040935672514\n",
      "Precision = 0.9393939393939394 | Recall = 0.18128654970760233\n",
      "Precision = 0.9642857142857143 | Recall = 0.15789473684210525\n",
      "Precision = 0.96 | Recall = 0.14035087719298245\n",
      "Precision = 0.9473684210526315 | Recall = 0.10526315789473684\n",
      "Precision = 0.9166666666666666 | Recall = 0.06432748538011696\n",
      "Precision = 1.0 | Recall = 0.04093567251461988\n",
      "Precision = 1.0 | Recall = 0.04093567251461988\n",
      "Precision = 1.0 | Recall = 0.029239766081871343\n",
      "Precision = 1.0 | Recall = 0.017543859649122806\n",
      "Precision = 1.0 | Recall = 0.005847953216374269\n",
      "Precision = nan | Recall = 0.0\n",
      "Precision = nan | Recall = 0.0\n"
     ]
    },
    {
     "name": "stderr",
     "output_type": "stream",
     "text": [
      "/tmp/ipykernel_2565/4231371142.py:19: RuntimeWarning: invalid value encountered in scalar divide\n",
      "  p = tp / (tp + fp)\n"
     ]
    }
   ],
   "source": [
    "thresholds = np.arange(0, 1, 0.01)\n",
    "precision_results = []\n",
    "recall_results = []\n",
    "\n",
    "for t in thresholds:\n",
    "\n",
    "    actual_positive = (y_val == 1)\n",
    "    actual_negative = (y_val == 0)\n",
    "\n",
    "    pred_positive = (y_pred >= t)\n",
    "    pred_negative = (y_pred < t)\n",
    "\n",
    "    tp = (actual_positive & pred_positive).sum()\n",
    "    tn = (actual_negative & pred_negative).sum()\n",
    "    fp = (actual_negative & pred_positive).sum()\n",
    "    fn = (actual_positive & pred_negative).sum()\n",
    "\n",
    "    # Precision\n",
    "    p = tp / (tp + fp)\n",
    "    precision_results.append(p)\n",
    "\n",
    "    # Recall\n",
    "    r = tp / (tp + fn)\n",
    "    recall_results.append(r)\n",
    "\n",
    "    print(f\"Precision = {p} | Recall = {r}\")"
   ]
  },
  {
   "cell_type": "code",
   "execution_count": 28,
   "id": "49ad62c7",
   "metadata": {},
   "outputs": [
    {
     "data": {
      "text/plain": [
       "Text(0.5, 0, 'Thresholds')"
      ]
     },
     "execution_count": 28,
     "metadata": {},
     "output_type": "execute_result"
    },
    {
     "data": {
      "image/png": "[encoded data removed]",
      "text/plain": [
       "<Figure size 640x480 with 1 Axes>"
      ]
     },
     "metadata": {},
     "output_type": "display_data"
    }
   ],
   "source": [
    "plt.plot(thresholds, precision_results, label='Presision')\n",
    "plt.plot(thresholds, recall_results, label='Recall')\n",
    "plt.legend()\n",
    "plt.xlabel('Thresholds')\n",
    "\n",
    "# The option that is closer to the answer is 0.745"
   ]
  },
  {
   "cell_type": "markdown",
   "id": "bbf2abd6",
   "metadata": {},
   "source": [
    "## Question 4"
   ]
  },
  {
   "cell_type": "code",
   "execution_count": 31,
   "id": "3e311d00",
   "metadata": {},
   "outputs": [],
   "source": [
    "# F1 score\n",
    "f1_scores = []\n",
    "for index, t in enumerate(thresholds):\n",
    "    f1 = 2 * (precision_results[index] * recall_results[index]) / (precision_results[index] + recall_results[index])\n",
    "    f1_scores.append(f1)"
   ]
  },
  {
   "cell_type": "code",
   "execution_count": null,
   "id": "88344027",
   "metadata": {},
   "outputs": [
    {
     "data": {
      "text/plain": [
       "Text(0.5, 0, 'Thresholds')"
      ]
     },
     "execution_count": 32,
     "metadata": {},
     "output_type": "execute_result"
    },
    {
     "data": {
      "image/png": "[encoded data removed]",
      "text/plain": [
       "<Figure size 640x480 with 1 Axes>"
      ]
     },
     "metadata": {},
     "output_type": "display_data"
    }
   ],
   "source": [
    "plt.plot(thresholds, precision_results, label='Presision')\n",
    "plt.plot(thresholds, recall_results, label='Recall')\n",
    "plt.plot(thresholds, f1_scores, label='F1-Score')\n",
    "plt.legend()\n",
    "plt.xlabel('Thresholds')\n",
    "\n",
    "# The option that is closer to the plot maximum F1 score is 0.54"
   ]
  },
  {
   "cell_type": "markdown",
   "id": "97e5f06b",
   "metadata": {},
   "source": [
    "## Question 5"
   ]
  },
  {
   "cell_type": "code",
   "execution_count": null,
   "id": "58915591",
   "metadata": {},
   "outputs": [],
   "source": [
    "def train(df_train, y_train, C=1.0):\n",
    "    train_dict = df_train[categorical + numerical].to_dict(orient='records')\n",
    "    dv = DictVectorizer(sparse=False)\n",
    "    X_train = dv.fit_transform(train_dict) # One-hot encoding\n",
    "\n",
    "    model = LogisticRegression(solver='liblinear', C=C, max_iter=1000)\n",
    "    model.fit(X_train, y_train)\n",
    "\n",
    "    return dv, model\n",
    "\n",
    "def predict(df, dv, model):\n",
    "    dicts = df[categorical + numerical].to_dict(orient='records')\n",
    "    X = dv.transform(dicts) # One-hot encoding\n",
    "    y_pred = model.predict_proba(X)[:, 1]\n",
    "\n",
    "    return y_pred"
   ]
  },
  {
   "cell_type": "code",
   "execution_count": null,
   "id": "2d630a98",
   "metadata": {},
   "outputs": [],
   "source": []
  },
  {
   "cell_type": "code",
   "execution_count": 40,
   "id": "445c930d",
   "metadata": {},
   "outputs": [
    {
     "data": {
      "application/vnd.jupyter.widget-view+json": {
       "model_id": "3e6a4cd6c38f44188346c944ee41bc0f",
       "version_major": 2,
       "version_minor": 0
      },
      "text/plain": [
       "0it [00:00, ?it/s]"
      ]
     },
     "metadata": {},
     "output_type": "display_data"
    },
    {
     "name": "stdout",
     "output_type": "stream",
     "text": [
      "0.822 +- 0.036\n"
     ]
    }
   ],
   "source": [
    "n_folds = 5\n",
    "\n",
    "kfold = KFold(n_splits=5, shuffle=True, random_state=1)\n",
    "\n",
    "scores = []\n",
    "\n",
    "for train_idx, val_idx in tqdm(kfold.split(df_full_train)):\n",
    "    \n",
    "    df_train = df_full_train.iloc[train_idx]\n",
    "    df_val = df_full_train.iloc[val_idx]\n",
    "\n",
    "    y_train = df_train.converted.values\n",
    "    y_val = df_val.converted.values\n",
    "\n",
    "    dv, model = train(df_train, y_train)\n",
    "    y_pred = predict(df_val, dv, model)\n",
    "\n",
    "    auc = roc_auc_score(y_val, y_pred)\n",
    "    scores.append(auc)\n",
    "\n",
    "print('%.3f +- %.3f' % (np.mean(scores), np.std(scores)))"
   ]
  },
  {
   "cell_type": "code",
   "execution_count": null,
   "id": "efe6552a",
   "metadata": {},
   "outputs": [],
   "source": [
    "# answer is 0.036 (std - spread)\n",
    "# The option that is closer to the result I got is 0.06"
   ]
  },
  {
   "cell_type": "markdown",
   "id": "46ac03a6",
   "metadata": {},
   "source": [
    "## Question 6"
   ]
  },
  {
   "cell_type": "code",
   "execution_count": 41,
   "id": "d36ffd0c",
   "metadata": {},
   "outputs": [
    {
     "data": {
      "application/vnd.jupyter.widget-view+json": {
       "model_id": "735959b8969e4cdcba4d71402baf068d",
       "version_major": 2,
       "version_minor": 0
      },
      "text/plain": [
       "0it [00:00, ?it/s]"
      ]
     },
     "metadata": {},
     "output_type": "display_data"
    },
    {
     "name": "stdout",
     "output_type": "stream",
     "text": [
      "1e-06 0.560 +- 0.024\n"
     ]
    },
    {
     "data": {
      "application/vnd.jupyter.widget-view+json": {
       "model_id": "63dfe1cc908d4a94a97dc11c3a055a9e",
       "version_major": 2,
       "version_minor": 0
      },
      "text/plain": [
       "0it [00:00, ?it/s]"
      ]
     },
     "metadata": {},
     "output_type": "display_data"
    },
    {
     "name": "stdout",
     "output_type": "stream",
     "text": [
      "0.001 0.867 +- 0.029\n"
     ]
    },
    {
     "data": {
      "application/vnd.jupyter.widget-view+json": {
       "model_id": "e2e0703d57074b4897b2b45dedbb0f05",
       "version_major": 2,
       "version_minor": 0
      },
      "text/plain": [
       "0it [00:00, ?it/s]"
      ]
     },
     "metadata": {},
     "output_type": "display_data"
    },
    {
     "name": "stdout",
     "output_type": "stream",
     "text": [
      "1 0.822 +- 0.036\n"
     ]
    }
   ],
   "source": [
    "C = [0.000001, 0.001, 1]\n",
    "n_folds = 5\n",
    "\n",
    "for c in C:\n",
    "\n",
    "    kfold = KFold(n_splits=5, shuffle=True, random_state=1)\n",
    "\n",
    "    scores = []\n",
    "\n",
    "    for train_idx, val_idx in tqdm(kfold.split(df_full_train)):\n",
    "        \n",
    "        df_train = df_full_train.iloc[train_idx]\n",
    "        df_val = df_full_train.iloc[val_idx]\n",
    "\n",
    "        y_train = df_train.converted.values\n",
    "        y_val = df_val.converted.values\n",
    "\n",
    "        dv, model = train(df_train, y_train, c)\n",
    "        y_pred = predict(df_val, dv, model)\n",
    "\n",
    "        auc = roc_auc_score(y_val, y_pred)\n",
    "        scores.append(auc)\n",
    "\n",
    "    print('%s %.3f +- %.3f' % (c, np.mean(scores), np.std(scores)))"
   ]
  },
  {
   "cell_type": "code",
   "execution_count": null,
   "id": "d32e7616",
   "metadata": {},
   "outputs": [],
   "source": [
    "# Answer is C = 0.001 obtains the best result, with 0.867 +- 0.029"
   ]
  }
 ],
 "metadata": {
  "kernelspec": {
   "display_name": "Python 3",
   "language": "python",
   "name": "python3"
  },
  "language_info": {
   "codemirror_mode": {
    "name": "ipython",
    "version": 3
   },
   "file_extension": ".py",
   "mimetype": "text/x-python",
   "name": "python",
   "nbconvert_exporter": "python",
   "pygments_lexer": "ipython3",
   "version": "3.12.1"
  }
 },
 "nbformat": 4,
 "nbformat_minor": 5
}
